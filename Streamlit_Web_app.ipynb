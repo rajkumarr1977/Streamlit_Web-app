{
  "cells": [
    {
      "cell_type": "markdown",
      "metadata": {
        "id": "view-in-github",
        "colab_type": "text"
      },
      "source": [
        "<a href=\"https://colab.research.google.com/github/rajkumarr1977/Streamlit_Web-app/blob/main/Streamlit_Web_app.ipynb\" target=\"_parent\"><img src=\"https://colab.research.google.com/assets/colab-badge.svg\" alt=\"Open In Colab\"/></a>"
      ]
    },
    {
      "cell_type": "markdown",
      "metadata": {
        "id": "diylOjcdFA8K"
      },
      "source": [
        "**What is Streamlit?**\n",
        "Streamlit is a Python library that simplifies the process of creating and deploying web applications. It’s designed for data scientists and developers who want to showcase their projects, visualizations, or even interactive tools without getting bogged down by the intricacies of web development frameworks. Streamlit’s magic lies in its ability to turn data scripts into web apps with minimal code, making it an ideal tool for rapid prototyping.\n",
        "\n",
        "**Why Use Streamlit?**\n",
        "**Ease of Use**: Streamlit’s syntax is straightforward. With just a few lines of code, you can build interactive features such as sliders, buttons, and charts.\n",
        "**Rapid Development: **It significantly reduces development time by removing the need to write backend logic, design a frontend, or worry about the connection between the two.\n",
        "**Flexibility:** Streamlit apps can easily be shared with others, deployed on servers, or integrated into existing Python projects. It supports numerous data visualization libraries like Matplotlib, Plotly, and Altair.\n",
        "**Interactivity**: Unlike static data presentations, Streamlit apps are interactive out-of-the-box, making your data analysis more engaging and insightful.\n",
        "**Getting Started with Streamlit**\n",
        "Installation\n",
        "First, ensure you have Python installed on your computer. Streamlit requires Python 3.6 or later. Install Streamlit using pip:"
      ]
    },
    {
      "cell_type": "code",
      "execution_count": 3,
      "metadata": {
        "colab": {
          "base_uri": "https://localhost:8080/"
        },
        "id": "ASPGy_zOEoS1",
        "outputId": "f3b3da0f-2bd8-4779-8045-0734c6abc381"
      },
      "outputs": [
        {
          "output_type": "stream",
          "name": "stdout",
          "text": [
            "Collecting streamlit\n",
            "  Downloading streamlit-1.33.0-py2.py3-none-any.whl (8.1 MB)\n",
            "\u001b[2K     \u001b[90m━━━━━━━━━━━━━━━━━━━━━━━━━━━━━━━━━━━━━━━━\u001b[0m \u001b[32m8.1/8.1 MB\u001b[0m \u001b[31m15.6 MB/s\u001b[0m eta \u001b[36m0:00:00\u001b[0m\n",
            "\u001b[?25hRequirement already satisfied: altair<6,>=4.0 in /usr/local/lib/python3.10/dist-packages (from streamlit) (4.2.2)\n",
            "Requirement already satisfied: blinker<2,>=1.0.0 in /usr/lib/python3/dist-packages (from streamlit) (1.4)\n",
            "Requirement already satisfied: cachetools<6,>=4.0 in /usr/local/lib/python3.10/dist-packages (from streamlit) (5.3.3)\n",
            "Requirement already satisfied: click<9,>=7.0 in /usr/local/lib/python3.10/dist-packages (from streamlit) (8.1.7)\n",
            "Requirement already satisfied: numpy<2,>=1.19.3 in /usr/local/lib/python3.10/dist-packages (from streamlit) (1.25.2)\n",
            "Requirement already satisfied: packaging<25,>=16.8 in /usr/local/lib/python3.10/dist-packages (from streamlit) (24.0)\n",
            "Requirement already satisfied: pandas<3,>=1.3.0 in /usr/local/lib/python3.10/dist-packages (from streamlit) (2.0.3)\n",
            "Requirement already satisfied: pillow<11,>=7.1.0 in /usr/local/lib/python3.10/dist-packages (from streamlit) (9.4.0)\n",
            "Requirement already satisfied: protobuf<5,>=3.20 in /usr/local/lib/python3.10/dist-packages (from streamlit) (3.20.3)\n",
            "Requirement already satisfied: pyarrow>=7.0 in /usr/local/lib/python3.10/dist-packages (from streamlit) (14.0.2)\n",
            "Requirement already satisfied: requests<3,>=2.27 in /usr/local/lib/python3.10/dist-packages (from streamlit) (2.31.0)\n",
            "Requirement already satisfied: rich<14,>=10.14.0 in /usr/local/lib/python3.10/dist-packages (from streamlit) (13.7.1)\n",
            "Requirement already satisfied: tenacity<9,>=8.1.0 in /usr/local/lib/python3.10/dist-packages (from streamlit) (8.2.3)\n",
            "Requirement already satisfied: toml<2,>=0.10.1 in /usr/local/lib/python3.10/dist-packages (from streamlit) (0.10.2)\n",
            "Requirement already satisfied: typing-extensions<5,>=4.3.0 in /usr/local/lib/python3.10/dist-packages (from streamlit) (4.11.0)\n",
            "Collecting gitpython!=3.1.19,<4,>=3.0.7 (from streamlit)\n",
            "  Downloading GitPython-3.1.43-py3-none-any.whl (207 kB)\n",
            "\u001b[2K     \u001b[90m━━━━━━━━━━━━━━━━━━━━━━━━━━━━━━━━━━━━━━━━\u001b[0m \u001b[32m207.3/207.3 kB\u001b[0m \u001b[31m10.9 MB/s\u001b[0m eta \u001b[36m0:00:00\u001b[0m\n",
            "\u001b[?25hCollecting pydeck<1,>=0.8.0b4 (from streamlit)\n",
            "  Downloading pydeck-0.9.0b1-py2.py3-none-any.whl (5.8 MB)\n",
            "\u001b[2K     \u001b[90m━━━━━━━━━━━━━━━━━━━━━━━━━━━━━━━━━━━━━━━━\u001b[0m \u001b[32m5.8/5.8 MB\u001b[0m \u001b[31m30.3 MB/s\u001b[0m eta \u001b[36m0:00:00\u001b[0m\n",
            "\u001b[?25hRequirement already satisfied: tornado<7,>=6.0.3 in /usr/local/lib/python3.10/dist-packages (from streamlit) (6.3.3)\n",
            "Collecting watchdog>=2.1.5 (from streamlit)\n",
            "  Downloading watchdog-4.0.0-py3-none-manylinux2014_x86_64.whl (82 kB)\n",
            "\u001b[2K     \u001b[90m━━━━━━━━━━━━━━━━━━━━━━━━━━━━━━━━━━━━━━━━\u001b[0m \u001b[32m83.0/83.0 kB\u001b[0m \u001b[31m7.6 MB/s\u001b[0m eta \u001b[36m0:00:00\u001b[0m\n",
            "\u001b[?25hRequirement already satisfied: entrypoints in /usr/local/lib/python3.10/dist-packages (from altair<6,>=4.0->streamlit) (0.4)\n",
            "Requirement already satisfied: jinja2 in /usr/local/lib/python3.10/dist-packages (from altair<6,>=4.0->streamlit) (3.1.3)\n",
            "Requirement already satisfied: jsonschema>=3.0 in /usr/local/lib/python3.10/dist-packages (from altair<6,>=4.0->streamlit) (4.19.2)\n",
            "Requirement already satisfied: toolz in /usr/local/lib/python3.10/dist-packages (from altair<6,>=4.0->streamlit) (0.12.1)\n",
            "Collecting gitdb<5,>=4.0.1 (from gitpython!=3.1.19,<4,>=3.0.7->streamlit)\n",
            "  Downloading gitdb-4.0.11-py3-none-any.whl (62 kB)\n",
            "\u001b[2K     \u001b[90m━━━━━━━━━━━━━━━━━━━━━━━━━━━━━━━━━━━━━━━━\u001b[0m \u001b[32m62.7/62.7 kB\u001b[0m \u001b[31m5.3 MB/s\u001b[0m eta \u001b[36m0:00:00\u001b[0m\n",
            "\u001b[?25hRequirement already satisfied: python-dateutil>=2.8.2 in /usr/local/lib/python3.10/dist-packages (from pandas<3,>=1.3.0->streamlit) (2.8.2)\n",
            "Requirement already satisfied: pytz>=2020.1 in /usr/local/lib/python3.10/dist-packages (from pandas<3,>=1.3.0->streamlit) (2023.4)\n",
            "Requirement already satisfied: tzdata>=2022.1 in /usr/local/lib/python3.10/dist-packages (from pandas<3,>=1.3.0->streamlit) (2024.1)\n",
            "Requirement already satisfied: charset-normalizer<4,>=2 in /usr/local/lib/python3.10/dist-packages (from requests<3,>=2.27->streamlit) (3.3.2)\n",
            "Requirement already satisfied: idna<4,>=2.5 in /usr/local/lib/python3.10/dist-packages (from requests<3,>=2.27->streamlit) (3.7)\n",
            "Requirement already satisfied: urllib3<3,>=1.21.1 in /usr/local/lib/python3.10/dist-packages (from requests<3,>=2.27->streamlit) (2.0.7)\n",
            "Requirement already satisfied: certifi>=2017.4.17 in /usr/local/lib/python3.10/dist-packages (from requests<3,>=2.27->streamlit) (2024.2.2)\n",
            "Requirement already satisfied: markdown-it-py>=2.2.0 in /usr/local/lib/python3.10/dist-packages (from rich<14,>=10.14.0->streamlit) (3.0.0)\n",
            "Requirement already satisfied: pygments<3.0.0,>=2.13.0 in /usr/local/lib/python3.10/dist-packages (from rich<14,>=10.14.0->streamlit) (2.16.1)\n",
            "Collecting smmap<6,>=3.0.1 (from gitdb<5,>=4.0.1->gitpython!=3.1.19,<4,>=3.0.7->streamlit)\n",
            "  Downloading smmap-5.0.1-py3-none-any.whl (24 kB)\n",
            "Requirement already satisfied: MarkupSafe>=2.0 in /usr/local/lib/python3.10/dist-packages (from jinja2->altair<6,>=4.0->streamlit) (2.1.5)\n",
            "Requirement already satisfied: attrs>=22.2.0 in /usr/local/lib/python3.10/dist-packages (from jsonschema>=3.0->altair<6,>=4.0->streamlit) (23.2.0)\n",
            "Requirement already satisfied: jsonschema-specifications>=2023.03.6 in /usr/local/lib/python3.10/dist-packages (from jsonschema>=3.0->altair<6,>=4.0->streamlit) (2023.12.1)\n",
            "Requirement already satisfied: referencing>=0.28.4 in /usr/local/lib/python3.10/dist-packages (from jsonschema>=3.0->altair<6,>=4.0->streamlit) (0.34.0)\n",
            "Requirement already satisfied: rpds-py>=0.7.1 in /usr/local/lib/python3.10/dist-packages (from jsonschema>=3.0->altair<6,>=4.0->streamlit) (0.18.0)\n",
            "Requirement already satisfied: mdurl~=0.1 in /usr/local/lib/python3.10/dist-packages (from markdown-it-py>=2.2.0->rich<14,>=10.14.0->streamlit) (0.1.2)\n",
            "Requirement already satisfied: six>=1.5 in /usr/local/lib/python3.10/dist-packages (from python-dateutil>=2.8.2->pandas<3,>=1.3.0->streamlit) (1.16.0)\n",
            "Installing collected packages: watchdog, smmap, pydeck, gitdb, gitpython, streamlit\n",
            "Successfully installed gitdb-4.0.11 gitpython-3.1.43 pydeck-0.9.0b1 smmap-5.0.1 streamlit-1.33.0 watchdog-4.0.0\n"
          ]
        }
      ],
      "source": [
        "!pip install streamlit"
      ]
    },
    {
      "cell_type": "markdown",
      "metadata": {
        "id": "vRpfKdTiE2XS"
      },
      "source": [
        "**Building Your First App**\n",
        "To get started with your first Streamlit app, begin by creating a Python file and naming it first_app.py. Once your file is set up, initiate your project by importing Streamlit at the top of your file with the command import streamlit as st.\n",
        "\n",
        "This sets the stage for you to leverage Streamlit's diverse functionalities. Now, it's time to breathe life into your app. Utilize Streamlit's intuitive functions to infuse elements into your web app effortlessly.\n",
        "\n",
        "For instance, adding a title to your app is as simple as using st.title('My First Streamlit App'). This approach allows you to quickly construct the basic structure of your app and start experimenting with Streamlit's powerful features."
      ]
    },
    {
      "cell_type": "code",
      "execution_count": 6,
      "metadata": {
        "colab": {
          "base_uri": "https://localhost:8080/"
        },
        "id": "rA3SGr_hE-ob",
        "outputId": "1525b698-abec-4b7e-b58b-4b2d1175e372"
      },
      "outputs": [
        {
          "output_type": "execute_result",
          "data": {
            "text/plain": [
              "DeltaGenerator()"
            ]
          },
          "metadata": {},
          "execution_count": 6
        }
      ],
      "source": [
        "import streamlit as st\n",
        "import pandas as pd\n",
        "import numpy as np\n",
        "\n",
        "st.title('From Zero to Hero: Master Streamlit')\n",
        "\n",
        "# set graph subheader\n",
        "st.subheader('Simple Data Visualisation')\n",
        "\n",
        "# Display a greeting\n",
        "st.write('Hello, Streamlit!')\n",
        "\n",
        "# Generate some data\n",
        "data = pd.DataFrame({\n",
        "  'date': pd.date_range(start='1/1/2020', periods=100),\n",
        "  'column1': np.random.randn(100).cumsum()\n",
        "})\n",
        "\n",
        "# Create a line chart\n",
        "st.line_chart(data.set_index('date'))"
      ]
    },
    {
      "cell_type": "markdown",
      "metadata": {
        "id": "4708hZhpFU5B"
      },
      "source": [
        "Run Your App: Open your terminal, navigate to the folder containing your first_app.py, and run it by typing:"
      ]
    },
    {
      "cell_type": "code",
      "execution_count": null,
      "metadata": {
        "colab": {
          "base_uri": "https://localhost:8080/"
        },
        "id": "gujQN-UsFUhQ",
        "outputId": "2c4208c5-b0c4-45c8-fddf-58e26bd1e852"
      },
      "outputs": [
        {
          "output_type": "stream",
          "name": "stdout",
          "text": [
            "\n",
            "Collecting usage statistics. To deactivate, set browser.gatherUsageStats to false.\n",
            "\u001b[0m\n",
            "\u001b[0m\n",
            "\u001b[34m\u001b[1m  You can now view your Streamlit app in your browser.\u001b[0m\n",
            "\u001b[0m\n",
            "\u001b[34m  Network URL: \u001b[0m\u001b[1mhttp://172.28.0.12:8501\u001b[0m\n",
            "\u001b[34m  External URL: \u001b[0m\u001b[1mhttp://34.148.254.62:8501\u001b[0m\n",
            "\u001b[0m\n"
          ]
        }
      ],
      "source": [
        "!streamlit run first_app.py"
      ]
    },
    {
      "cell_type": "markdown",
      "metadata": {
        "id": "-iWjsMAfGmZc"
      },
      "source": [
        "**Understanding Streamlit’s Core Concepts**\n",
        "Widgets: Streamlit offers various widgets like sliders, buttons, and text inputs that users can interact with. These widgets can be easily added to your app, enabling interactive capabilities without additional backend code."
      ]
    },
    {
      "cell_type": "code",
      "execution_count": null,
      "metadata": {
        "id": "lkxb6xXvGo9R"
      },
      "outputs": [],
      "source": [
        "import streamlit as st\n",
        "\n",
        "col1, col2 = st.columns(2)\n",
        "\n",
        "with col1:\n",
        "    st.text(\"Button\")\n",
        "with col2:\n",
        "    if st.button(\"Click Me\"):\n",
        "        st.success(\"Button clicked!\")\n",
        "\n",
        "with col1:\n",
        "    st.text(\"Checkbox\")\n",
        "with col2:\n",
        "    check = st.checkbox(\"Check Me\")\n",
        "    if check:\n",
        "        st.success(\"Checkbox is checked!\")\n",
        "\n",
        "with col1:\n",
        "    st.text(\"Radio\")\n",
        "with col2:\n",
        "    radio_option = st.radio(\"Choose One\", [\"Option 1\", \"Option 2\"])\n",
        "    st.success(f\"You selected {radio_option}\")\n",
        "\n",
        "with col1:\n",
        "    st.text(\"Selectbox\")\n",
        "with col2:\n",
        "    select_option = st.selectbox(\"Choose One\", [\"Option A\", \"Option B\"])\n",
        "    st.success(f\"You selected {select_option}\")\n",
        "\n",
        "with col1:\n",
        "    st.text(\"Slider\")\n",
        "with col2:\n",
        "    slider_value = st.slider(\"Select a number\", 0, 100)\n",
        "    st.success(f\"You selected {slider_value}\")\n",
        "\n",
        "with col1:\n",
        "    st.text(\"Text Input\")\n",
        "with col2:\n",
        "    text_input = st.text_input(\"Enter something\")\n",
        "    if text_input:\n",
        "        st.success(f\"You entered {text_input}\")"
      ]
    },
    {
      "cell_type": "markdown",
      "metadata": {
        "id": "dEtmKXzKGxAU"
      },
      "source": [
        "**Caching**: Streamlit features a caching mechanism to speed up load times for apps that perform heavy computations. By using the @st.cache_data decorator, functions that process data can be cached to avoid unnecessary recalculations."
      ]
    },
    {
      "cell_type": "code",
      "execution_count": null,
      "metadata": {
        "id": "Hsk6hCvXG0VX"
      },
      "outputs": [],
      "source": [
        "import streamlit as st\n",
        "import time\n",
        "\n",
        "# Caching a function\n",
        "@st.cache_data\n",
        "def expensive_computation(value):\n",
        "    time.sleep(5)  # Simulating a time-consuming computation\n",
        "    return \"Computation Complete with value: \", value\n",
        "\n",
        "# get input from user and call the function\n",
        "value = st.slider(\"Pick a value\")\n",
        "result = expensive_computation(value)\n",
        "st.write(result)"
      ]
    },
    {
      "cell_type": "markdown",
      "source": [
        "Layouts and Containers: To enhance your app’s visual appeal, Streamlit provides layout options and containers. You can organize your app’s content into columns, sidebars, and expanders for a more structured and interactive user experience.**bold text**"
      ],
      "metadata": {
        "id": "kIknYBfgLXrq"
      }
    },
    {
      "cell_type": "code",
      "source": [
        "import streamlit as st\n",
        "\n",
        "# Using columns to layout content\n",
        "col1, col2 = st.columns(2)\n",
        "\n",
        "with col1:\n",
        "    st.header(\"Column 1\")\n",
        "    st.write(\"Here is some content in column 1\")\n",
        "\n",
        "with col2:\n",
        "    st.header(\"Column 2\")\n",
        "    st.write(\"Here is some content in column 2\")"
      ],
      "metadata": {
        "id": "kKfZwIK1Lb89"
      },
      "execution_count": null,
      "outputs": []
    },
    {
      "cell_type": "markdown",
      "source": [
        "**Streamlit Support for Markdown**\n",
        "Streamlit offers robust support for Markdown, a lightweight markup language that you can use to add elements like headers, lists, links, and even images to your app with simple syntax. This feature enables you to incorporate rich text formatting directly within your app, allowing for enhanced readability and a more polished presentation without requiring HTML knowledge. Markdown in Streamlit is not only about enhancing textual content; it also allows for the inclusion of dynamic elements and data visualizations in a straightforward manner.\n",
        "\n",
        "To add Markdown to your Streamlit app, you can use the st.markdown() function. This function interprets and displays text formatted in Markdown, facilitating the creation of well-structured and visually appealing interfaces. For example:"
      ],
      "metadata": {
        "id": "-hWEEcDJLjx1"
      }
    },
    {
      "cell_type": "code",
      "source": [
        "import streamlit as st\n",
        "\n",
        "# Comprehensive Markdown example\n",
        "st.markdown(\n",
        "    \"\"\"\n",
        "## Comprehensive Markdown Features\n",
        "\n",
        "Streamlit supports a wide array of Markdown features, making your app's content rich and versatile.\n",
        "\n",
        "### Text Styles\n",
        "You can easily apply **bold**, _italic_, and `monospace` styles. Combining **_styles_** is also possible.\n",
        "\n",
        "### Lists\n",
        "Markdown supports both unordered and ordered lists:\n",
        "- Unordered list item 1\n",
        "- Unordered list item 2\n",
        "  - Nested item 2.2\n",
        "  - Nested item 2.2\n",
        "\n",
        "1. Ordered list item 1\n",
        "2. Ordered list item 2\n",
        "   1. Nested ordered item 2.1\n",
        "   2. Nested ordered item 2.2\n",
        "\n",
        "### Links and Images\n",
        "Embedding [links](https://www.example.com) is straightforward, as is displaying images:\n",
        "![Streamlit Logo](https://docs.streamlit.io/logo.svg)\n",
        "\n",
        "### Blockquotes\n",
        "> Markdown allows for blockquotes, which can be useful for highlighting quotations or important pieces of information.\n",
        "\n",
        "### Code Blocks\n",
        "You can include code blocks for both inline code, like `print(\"Hello, Streamlit!\")`, and multi-line code blocks:\n",
        "\n",
        "```python\n",
        "# This is a Python code block\n",
        "for i in range(5):\n",
        "    print(i)\n",
        "```\n",
        "\n",
        "\n",
        "### Tables\n",
        "Tables can be created using Markdown syntax:\n",
        "\n",
        "| Column 1 | Column 2 | Column 3 |\n",
        "|----------|----------|----------|\n",
        "| A1       | B1       | C1       |\n",
        "| A2       | B2       | C2       |\n",
        "| A3       | B3       | C3       |\n",
        "\n",
        "### Horizontal Rules\n",
        "---\n",
        "Horizontal rules can be used to separate sections of content.\n",
        "\n",
        "### Math\n",
        "Mathematical equations can be rendered using LaTeX syntax:\n",
        "\n",
        "$$\n",
        "\\int_{-\\infty}^{\\infty} e^{-x^2} dx = \\sqrt{\\pi}\n",
        "$$\n",
        "\n",
        "### Emoji\n",
        "You can easily include emoji in your text: 🚀🔥🎉\n",
        "\n",
        "### Line Breaks\n",
        "Finally, you can create line breaks\n",
        "by ending a line with two spaces.\n",
        "\n",
        "\"\"\"\n",
        ")"
      ],
      "metadata": {
        "id": "iamSRxm0Lm4_"
      },
      "execution_count": null,
      "outputs": []
    },
    {
      "cell_type": "markdown",
      "source": [
        "**Multipage Applications with Streamlit**\n",
        "Streamlit’s introduction of multipage applications marks a significant evolution in the framework, offering developers the flexibility to build more complex, navigable web apps. This feature allows the creation of applications with multiple pages, each dedicated to a specific aspect or functionality, enhancing the user experience by organizing content into separate, easily accessible sections.\n",
        "\n",
        "Understanding Multipage Apps\n",
        "A multipage Streamlit application is structured around a main directory containing an individual Python script for each page of the app, along with a special pages directory. The Streamlit engine automatically generates a sidebar navigation menu, enabling users to switch between pages seamlessly. This structure facilitates the development of comprehensive applications that can cover various functionalities or topics without overwhelming the user with information on a single page.\n",
        "\n",
        "How to Create a Multipage App\n",
        "Main Directory: Start by creating a main directory for your Streamlit app. This will contain your streamlit_app.py (or similarly named) file, which serves as the entry point or home page of your application.\n",
        "2 . Pages Directory: Inside the main directory, create a subdirectory named pages. Each Python script placed in this directory represents a separate page of your multipage application. Streamlit automatically recognizes these scripts as individual pages and adds them to the app's navigation.\n",
        "\n",
        "3. Developing Individual Pages: Each page can be developed as a standalone Streamlit script. Use Streamlit’s widgets, layout options, and Markdown support as you normally would to create the content and functionality of each page.\n",
        "\n",
        "Structure\n",
        "\n",
        "my_streamlit_app/\n",
        "├── streamlit_app.py  # The main app/home page\n",
        "└── pages/\n",
        "    ├── page1.py  # First additional page\n",
        "    └── page2.py  # Second additional page"
      ],
      "metadata": {
        "id": "Qd9k56yQL2HO"
      }
    },
    {
      "cell_type": "markdown",
      "source": [
        "**Code Snippet for a Simple Multipage App**"
      ],
      "metadata": {
        "id": "T0Vo3x4wMuD2"
      }
    },
    {
      "cell_type": "code",
      "source": [
        "# In streamlit_app.py\n",
        "import streamlit as st\n",
        "\n",
        "st.title('Home Page')\n",
        "st.write('This is the home page of the multipage app.')"
      ],
      "metadata": {
        "id": "3hTekNPwMthu"
      },
      "execution_count": null,
      "outputs": []
    },
    {
      "cell_type": "code",
      "source": [
        " In pages/page1.py\n",
        "import streamlit as st\n",
        "\n",
        "st.title('Page 1')\n",
        "st.write('Welcome to page 1.')"
      ],
      "metadata": {
        "id": "WJAuA0M0M8TG"
      },
      "execution_count": null,
      "outputs": []
    },
    {
      "cell_type": "code",
      "source": [
        "# In pages/page2.py\n",
        "import streamlit as st\n",
        "\n",
        "st.title('Page 2')\n",
        "st.write('Welcome to page 2.')"
      ],
      "metadata": {
        "id": "I8jZ6pSOM_em"
      },
      "execution_count": null,
      "outputs": []
    },
    {
      "cell_type": "markdown",
      "source": [
        "By** navigating to the my_streamlit_app **directory and running streamlit run streamlit_app.py, Streamlit will automatically recognize and compile these scripts into a cohesive multipage application, complete with sidebar navigation.\n",
        "\n",
        "Benefits and Use Cases **bold text**\n",
        "Multipage applications are particularly useful for creating comprehensive dashboards, data analysis reports, or applications requiring a modular structure to cover distinct but related topics. This structure enhances user engagement by providing a clean, organized interface for exploring different functionalities or datasets.\n",
        "\n",
        "Deployment Methods of a Streamlit Web App **bold text**\n",
        "Deploying a Streamlit web app is the final step in sharing your data applications with the world. Streamlit apps can be deployed using various platforms that support Python apps. The choice of deployment method depends on the scale of your app, the expected traffic, and your specific needs, such as custom domains or authentication. Below, we explore some popular deployment methods that can help you get your Streamlit app up and running online.\n",
        "\n",
        "Streamlit Sharing **bold text**\n",
        "Streamlit Sharing is Streamlit’s own service designed specifically for deploying Streamlit apps. It’s the simplest way to share your apps directly from your GitHub repository. With Streamlit Sharing, deployment is as straightforward as committing your code to GitHub and registering your repository with the Streamlit Sharing service. Streamlit automatically handles the installation of necessary dependencies, making the process seamless. This service is ideal for quickly sharing projects and prototypes with a broader audience.\n",
        "\n",
        "Heroku **bold text**\n",
        "Heroku is a cloud platform as a service (PaaS) that enables developers to build, run, and operate applications entirely in the cloud. Deploying a Streamlit app on Heroku involves creating a Procfile, a requirements.txt file for your app dependencies, and possibly a setup.sh for configuration. Heroku's free tier is a great option for small projects and prototypes, although it comes with limitations on uptime and resources.\n",
        "\n",
        "AWS Elastic Beanstalk\n",
        "AWS Elastic Beanstalk is an orchestration service offered by Amazon Web Services for deploying applications which automates the deployment process, from capacity provisioning and load balancing to auto-scaling. Deploying a Streamlit app on Elastic Beanstalk requires packaging your app and specifying the environment configurations. While more complex than Streamlit Sharing or Heroku, Elastic Beanstalk offers more control over the deployment environment and is well-suited for scaling applications.\n",
        "\n",
        "Microsoft Azure App Service\n",
        "Microsoft Azure App Service is a fully managed platform for building, deploying, and scaling web apps. Deploying to Azure App Service involves creating an app service resource, configuring your deployment source as a GitHub or Bitbucket repository, and setting up continuous deployment. Azure App Service supports custom domains, SSL certificates, and auto-scaling, making it a robust option for enterprise-level applications.\n",
        "\n",
        "Google Cloud Run\n",
        "Google Cloud Run is a managed compute platform that automatically scales your stateless containers. Cloud Run is particularly adept at handling Streamlit apps packaged in Docker containers. Deployment involves building a Docker image of your app, pushing it to the Container Registry, and then deploying it on Cloud Run. This service is ideal for applications that require scalability and integration with Google Cloud’s ecosystem.\n",
        "\n",
        "Docker Containers\n",
        "For ultimate flexibility, you can containerize your Streamlit app using Docker. This method involves creating a Dockerfile that defines the environment your app runs in, building the Docker image, and deploying it on a container orchestration platform like Kubernetes. This approach is suitable for complex deployments requiring specific environments or when integrating with CI/CD pipelines.\n",
        "\n",
        "Now let’s Build a Mortgage Calculator with Streamlit\n",
        "In this section, we are going to build a comprehensive mortgage calculator using Streamlit. The objective is to create an interactive web application that allows users to input the price of a property, their down payment, and select the duration and interest rate of a mortgage to calculate the monthly payment. Our Streamlit app will also display additional information such as notary fees, which are typically a percentage of the property price.\n",
        "\n",
        "Here’s a step-by-step guide to building this mortgage calculator with Streamlit:\n",
        "**Step 1: Set Up Your Streamlit App**\n",
        "First, you’ll need to create a new Python script, let’s call it mortgage_calculator.py. Begin by importing Streamlit and any other necessary libraries, such as pandas and numpy for calculations."
      ],
      "metadata": {
        "id": "rx1FU0nINEAk"
      }
    },
    {
      "cell_type": "code",
      "source": [
        "import streamlit as st\n",
        "import numpy as np"
      ],
      "metadata": {
        "id": "EvAOmogrNA-0"
      },
      "execution_count": null,
      "outputs": []
    },
    {
      "cell_type": "markdown",
      "source": [
        "**Step 2: Design the Layout**\n",
        "Use Streamlit’s layout options to design your app. Set up input fields for the property price and down payment, and sliders for the mortgage duration and interest rate."
      ],
      "metadata": {
        "id": "M-8A6tTfNtq1"
      }
    },
    {
      "cell_type": "code",
      "source": [
        "st.title('Mortgage Calculator')\n",
        "\n",
        "# Input fields for property price and down payment\n",
        "property_price = st.number_input('Property Price', value=545000)\n",
        "down_payment = st.number_input('Down Payment (30% recommended)', value=163500)\n",
        "\n",
        "# Slider for the duration of the loan\n",
        "loan_duration = st.slider('Duration of the Loan (Years)', min_value=7, max_value=25, value=20, step=1)\n",
        "\n",
        "# Slider for the interest rate\n",
        "interest_rate = st.slider('Interest Rate (%)', min_value=0.1, max_value=10.0, value=4.79, step=0.01)"
      ],
      "metadata": {
        "id": "mJaEZE5GNA06"
      },
      "execution_count": null,
      "outputs": []
    },
    {
      "cell_type": "markdown",
      "source": [
        "**Step 3: Calculate the Monthly Payments**\n",
        "Implement the logic to calculate the monthly payment based on the user’s inputs. This will involve standard mortgage calculation formulas, taking into account the principal amount, the interest rate, and the loan duration."
      ],
      "metadata": {
        "id": "QDwAjM3RN2Zk"
      }
    },
    {
      "cell_type": "code",
      "source": [
        "# Mortgage calculation\n",
        "notary_fees_rate = 0.08  # This is the percentage for notary fees\n",
        "notary_fees = property_price * notary_fees_rate\n",
        "loan_amount = property_price - down_payment\n",
        "\n",
        "monthly_interest_rate = interest_rate / 100 / 12\n",
        "number_of_payments = loan_duration * 12\n",
        "\n",
        "# Monthly mortgage payment calculation using the formula\n",
        "monthly_payment = loan_amount * monthly_interest_rate / (1 - (np.power((1 + monthly_interest_rate), (-number_of_payments))))"
      ],
      "metadata": {
        "id": "vJf0ADmgNAvb"
      },
      "execution_count": null,
      "outputs": []
    },
    {
      "cell_type": "markdown",
      "source": [
        "**Step 4: Display the Results**\n",
        "Finally, present the calculated monthly payments and other relevant details to the user. Use Markdown to format the output, and consider using Streamlit’s built-in functions to improve the visual appeal."
      ],
      "metadata": {
        "id": "khxZRpioOEbR"
      }
    },
    {
      "cell_type": "code",
      "source": [
        "st.markdown(f\"## Estimated Monthly Payment: €{monthly_payment:,.2f}\")\n",
        "st.markdown(f\"### Notary Fees (8%): €{notary_fees:,.2f}\")\n",
        "st.markdown(f\"### Loan Amount: €{loan_amount:,.2f}\")\n",
        "\n",
        "# Optional: Include a pie chart to illustrate the loan amount versus interest\n",
        "\n",
        "\n",
        "# Calculate interest amount\n",
        "interest_amount = monthly_payment * number_of_payments - loan_amount\n",
        "\n",
        "# Pie chart to illustrate loan amount versus interest\n",
        "labels = ['Loan Amount', 'Interest Amount']\n",
        "sizes = [loan_amount, interest_amount]\n",
        "colors = ['#ff9999','#66b3ff']\n",
        "fig1, ax1 = plt.subplots()\n",
        "ax1.pie(sizes, colors = colors, labels=labels, autopct='%1.1f%%', startangle=90)\n",
        "ax1.axis('equal')\n",
        "plt.title('Loan Amount vs Interest Amount')\n",
        "st.pyplot(fig1)"
      ],
      "metadata": {
        "id": "lbiOMRRHNAl3"
      },
      "execution_count": null,
      "outputs": []
    },
    {
      "cell_type": "markdown",
      "source": [
        "**Run The App**\n",
        "Run your app with Streamlit by executing the following command in your terminal:"
      ],
      "metadata": {
        "id": "FUs_HyPzOOax"
      }
    },
    {
      "cell_type": "code",
      "source": [
        "streamlit run mortgage_calculator.py"
      ],
      "metadata": {
        "id": "U1VCpdg9NAVd"
      },
      "execution_count": null,
      "outputs": []
    },
    {
      "cell_type": "markdown",
      "source": [
        "Your browser should automatically open and navigate to the local URL where your Streamlit app is being hosted. You now have a fully functional mortgage calculator that dynamically updates with user interaction!\n",
        "\n"
      ],
      "metadata": {
        "id": "O87qYPCgO6FR"
      }
    },
    {
      "cell_type": "markdown",
      "source": [
        "**Saving Your Code on GitHub and Deploying on Streamlit Cloud**\n",
        "Once you’ve built your Streamlit mortgage calculator, the next steps are to save your work on GitHub and deploy it on Streamlit Cloud. This will allow others to access your web application via the internet. Here’s how you can achieve this:\n",
        "\n",
        "Step 1: Push Your Code to GitHub\n",
        "\n",
        "Initialize your local directory as a Git repository if you haven’t done so"
      ],
      "metadata": {
        "id": "24XmiV22O_mH"
      }
    },
    {
      "cell_type": "code",
      "source": [
        "git init"
      ],
      "metadata": {
        "id": "dcxDK75jO1b1"
      },
      "execution_count": null,
      "outputs": []
    },
    {
      "cell_type": "markdown",
      "source": [
        "**Add your files to the repository:**"
      ],
      "metadata": {
        "id": "1T76GpbhPG7L"
      }
    },
    {
      "cell_type": "code",
      "source": [
        "git add mortgage_calculator.py"
      ],
      "metadata": {
        "id": "tL0DtLnYPKft"
      },
      "execution_count": null,
      "outputs": []
    },
    {
      "cell_type": "markdown",
      "source": [
        "**Commit the changes to your repository:**"
      ],
      "metadata": {
        "id": "G8yOj3_iOmot"
      }
    },
    {
      "cell_type": "code",
      "source": [
        "git commit -m \"Initial commit - Added mortgage calculator Streamlit app\""
      ],
      "metadata": {
        "id": "5gACayWrPT8q"
      },
      "execution_count": null,
      "outputs": []
    },
    {
      "cell_type": "markdown",
      "source": [
        "**Create a new repository on GitHub. Navigate to GitHub, sign in, and create a new repository by clicking the “New” button.**\n",
        "\n",
        "Link your local repository to your GitHub repository. You’ll find the URL of your new GitHub repository on its main page. Use it in the following command:"
      ],
      "metadata": {
        "id": "3m5IyniLPV8x"
      }
    },
    {
      "cell_type": "code",
      "source": [
        "git remote add origin <your-repository-url>"
      ],
      "metadata": {
        "id": "xx2SdFGSPfGg"
      },
      "execution_count": null,
      "outputs": []
    },
    {
      "cell_type": "markdown",
      "source": [
        "Push your local repository to GitHub:"
      ],
      "metadata": {
        "id": "zmcJDL3uPYqB"
      }
    },
    {
      "cell_type": "code",
      "source": [
        "git push -u origin master"
      ],
      "metadata": {
        "id": "c1xGnMTNPlrG"
      },
      "execution_count": null,
      "outputs": []
    },
    {
      "cell_type": "markdown",
      "source": [
        "Deploy on Streamlit Cloud\n",
        "Sign up or log in to Streamlit Cloud. Visit Streamlit Cloud and sign in with your GitHub account.\n",
        "\n",
        "Deploy your app. In the Streamlit Cloud dashboard, you’ll see an option to “New app”. Click this, and you’ll be prompted to enter the GitHub repository URL and select the branch.\n",
        "\n",
        "Configure your app settings if necessary. You may need to add environment variables or other settings specific to your app.\n",
        "\n",
        "Deploy the app. After configuring your settings, click the “Deploy” button. Streamlit Cloud will handle the rest, installing any necessary dependencies and launching your app. It may take a minute or two.\n",
        "\n",
        "Access your app. Once deployment is complete, you’ll receive a URL where your Streamlit app is live. You can share this URL with anyone you want to use your mortgage calculator.\n",
        "\n",
        "To delve deeper into Streamlit and expand your knowledge, there are several resources that you can explore:\n",
        "\n",
        "Streamlit Official Documentation: The Streamlit docs offer comprehensive guides from installation to advanced features. They cover the fundamentals of Streamlit, provide tutorials for creating your first app, and explain how to use Streamlit’s components and deploy your app on the Streamlit Community Cloud​ (Streamlit Docs)​​ (Streamlit Docs)​.\n",
        "\n",
        "Streamlit Blog Tutorials: The Streamlit blog has a dedicated tutorials section where you can find posts on building, managing, and deploying Streamlit apps. These tutorials are practical and cover a variety of use cases, such as building dashboards and integrating Streamlit with other technologies​ (Streamlit)​."
      ],
      "metadata": {
        "id": "ESCn7lemPm9m"
      }
    }
  ],
  "metadata": {
    "colab": {
      "provenance": [],
      "authorship_tag": "ABX9TyN9JrUEPf8CxLiP46XnBW8X",
      "include_colab_link": true
    },
    "kernelspec": {
      "display_name": "Python 3",
      "name": "python3"
    },
    "language_info": {
      "name": "python"
    }
  },
  "nbformat": 4,
  "nbformat_minor": 0
}